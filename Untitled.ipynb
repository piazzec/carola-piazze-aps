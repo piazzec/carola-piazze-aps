{
 "cells": [
  {
   "cell_type": "markdown",
   "id": "4d0dbefb-8345-45c5-a490-18fa88015e68",
   "metadata": {},
   "source": [
    "<img src=\"./logo_UNSAM.jpg\" align=\"right\" width=\"150\" />\n",
    "\n",
    "# Tarea semanal 5 \n",
    "#### Análisis y procesaimento de señales\n",
    "**Kala Ariadna Guevara, Carola Piazze Vicini**"
   ]
  },
  {
   "cell_type": "markdown",
   "id": "71b8e6a1-8d89-4956-b77e-7248efb2a06d",
   "metadata": {},
   "source": [
    "## Introducción\n",
    "En este trabajo se analizaron señales reales mediante la estimación de su densidad espectral de potencia. \n",
    "Se implementó el método de estimación de Welch, un procedimiento que consiste en dividir la señal en varios segmentos superpuestos, aplicar a cada uno una ventana de ponderación (como Hanning o Hamming) y luego calcular la transformada rápida de Fourier (FFT) de cada segmento. La aplicación de la ventana suaviza los extremos del segmento reduciendo los saltos bruscos que aparecen al cortarlo, y así disminuye el spectral leakage. Luego se calcula el periodograma de cada segmento (el módulo cuadrado de la FFT) y se realiza un promedio entre todos ellos, con el propósito de suavizar las fluctuaciones.\n",
    "\n",
    "$$\n",
    "\\hat{P}_{xx}^{(Welch)}(f) = \\frac{1}{K} \\sum_{k=1}^{K} \\frac{1}{U} \n",
    "\\left| \\text{FFT}\\{ w(n) \\, x_k(n) \\} \\right|^2\n",
    "$$\n",
    "\n",
    "donde:\n",
    "- $ K $: número de segmentos,\n",
    "- $ w(n) $: ventana aplicada a cada segmento,\n",
    "- $ U = \\frac{1}{N} \\sum_{n=0}^{N-1} w^2(n) $: factor de normalización de la ventana,\n",
    "- $ x_k(n) $ : muestra n-ésima del segmento k,\n",
    "- y $\\hat{P}_{xx}^{(Welch)}(f)$: estimación de la densidad espectral de potencia.\n",
    "## Desarrollo\n",
    "Se tomaron varios archivos como señal: un ECG, un PSG y tres archivos de audio, todos sin ruido para una mejor lectura. \n",
    "Se cargaron en el código se aplico el coso e numpy de welch blah blah\n",
    "A partir de las PSD obtenidas, se realizó una estimación del ancho de banda efectivo de cada señal, es decir el rango de frecuencias en el que se concentra la mayor parte de la potencia. Este análisis permite comparar las señales entre sí y evaluar su comportamiento espectral.\n"
   ]
  },
  {
   "cell_type": "code",
   "execution_count": null,
   "id": "9b53fa91-5b09-46fa-964b-52cbd211269d",
   "metadata": {},
   "outputs": [],
   "source": [
    "codigo"
   ]
  },
  {
   "cell_type": "markdown",
   "id": "ffba395c-4849-4f67-b9f8-617d83cc4cd4",
   "metadata": {},
   "source": [
    "## Análisis\n",
    "Algo de lo qeu se ve en los gráficos y como interpretarlo\n",
    "\n",
    "\n",
    "\n",
    "## Conclusión"
   ]
  },
  {
   "cell_type": "code",
   "execution_count": null,
   "id": "6ebc99b4-0d20-445b-a4d3-4e549a56e683",
   "metadata": {},
   "outputs": [],
   "source": []
  }
 ],
 "metadata": {
  "kernelspec": {
   "display_name": "Python 3 (ipykernel)",
   "language": "python",
   "name": "python3"
  },
  "language_info": {
   "codemirror_mode": {
    "name": "ipython",
    "version": 3
   },
   "file_extension": ".py",
   "mimetype": "text/x-python",
   "name": "python",
   "nbconvert_exporter": "python",
   "pygments_lexer": "ipython3",
   "version": "3.13.6"
  }
 },
 "nbformat": 4,
 "nbformat_minor": 5
}
