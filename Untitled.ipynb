{
 "cells": [
  {
   "cell_type": "markdown",
   "id": "9eb88d59-407a-42c7-beca-4ed4b905a5a2",
   "metadata": {},
   "source": [
    "<img src=\"./logo_UNSAM.jpg\" align=\"right\" width=\"150\" />\n",
    "\n",
    "# Tarea semanal 3 \n",
    "**Carola Piazze Vicini**"
   ]
  },
  {
   "cell_type": "markdown",
   "id": "a775a75b-ff02-4ca7-94a1-524c7ae12501",
   "metadata": {},
   "source": [
    "## Introducción\n",
    "El objetivo de este trabajo fue analizar el fenómeno de desparramo espectral, que se presenta al calcular la transformada discreta de Fourier (DFT). Para ello se trabajó con una señal senoidal, y se evaluó como la desintonía entre la frecuencia de la señal y los bins de la DFT afecta el gráfico de la densidad espectral de potencia (PSD). También se verofocó la identidad de Parseval y se exploró la técnica del zero padding como herramienta para mejorar la visualización del espectro.\n",
    "\n",
    "#### Transformada Discreta de Fourier\n",
    "La transformada de Fourier permite convertir una señal discreta en el tiempo, definida por una secuencia de muestras, a su representación en el dominio de la frecuencia. Lo hace descomponiendo la señal en una suma de senoidales de distintas frecuencias, mostrando cuánto aporta cada frecuencia al total de la señal.  \n",
    "La DFT divide el espectro en intervalos discretos llamados *bins de frecuencia*, que actúan como contenedores donde se acumula la energía de cada componente. Cada bin corresponde a un múltiplo de la resolución espectral  $ [\\Delta f = \\frac{f_s}{N} ]  $ \n",
    "y está asociado al índice $k$ en la ecuación de la DFT. \n",
    "\n",
    "La DFT de una secuencia discreta $ x[n] $ de longitud $ N $  está definida como:\n",
    "\n",
    "$$\n",
    "X[k] = \\sum_{n=0}^{N-1} x[n] \\, e^{-j \\, 2\\pi \\, \\frac{k}{N} \\, n}, \\quad k = 0,1,\\dots,N-1\n",
    "$$\n",
    "\n",
    "Pero la DFT pura requiere $ N^2 $ operaciones, lo cual es costoso para el programa si la señal es larga; por eso utilizamos la FFT (fast fourier transform) ya que su algoritmo es más eficiente y calcula la misma DFT pero en un tiempo menor.\n",
    "\n",
    "En este trabajo utilizamos la FFT para calcular la PSD y entender cómo las energía se reparte en la frecuencia.\n",
    "\n",
    "#### Densidad espectral de potencia - PSD\n",
    "Describe cómo se distribuye la energía o potencia de una señal en el dominio de la frecuencia. Si la energía de una senoidal está alineada con un bin, es decir que su frecuencia $f_0$ es un múltiplo entero de $\\Delta f$, la energía se concentra en un único punto. En cambio si la senoidal está desintonizada respecto a $\\Delta f$ el espectro se presenta más extendido, porque la energía se reparte entre los bins cercanos, mostrando un pico más ancho y más bajo con la energía derramada a los costados, en los lóbulos laterales.\n",
    "Por eso se dice que una senoidal “pura” debería ocupar un punto, pero si no coincide exactamente con la grilla de la DFT ($\\Delta f$), la vemos como si se extendiera en frecuencia, aunque en realidad sigue siendo de una sola frecuencia.\n",
    "\n",
    "#### Identidad de Parseval\n",
    "La identidad de Parseval dice que la energía de una señal en el dominio temporal debe ser equivalente a su energía en el dominio frecuencial:\n",
    "$$\n",
    "\\sum_{n=0}^{N-1} |x[n]|^2 \\;=\\; \\frac{1}{N} \\sum_{k=0}^{N-1} |X[k]|^2\n",
    "$$\n",
    "Donde\n",
    "- $x[n]$ es la señal en el dominio temporal.\n",
    "- $X[k]$ es la DFT de $x[n]$.\n",
    "- $N$ es el número total de muestras.\n",
    "\n",
    "#### Zero paddding\n",
    "Es una técnica que consiste en agregar un vector muy largo de ceros al final de la señal original, lo que aumenta ficticialemte la cantidad de muestras N. Esto no altera la resolución espectral real, pero pero genera una malla más densa de bins intermedios que permiten visualizar con mayor detalle la forma del espectro. En este trabajo se trabaja con un vector de 9*N cantidad de ceros, que se \"pega\" al final de las N muestras de laseñal original. "
   ]
  },
  {
   "cell_type": "code",
   "execution_count": null,
   "id": "2cd0cc9c-a2d9-494d-85ba-dbf2897cd3cd",
   "metadata": {},
   "outputs": [],
   "source": []
  },
  {
   "cell_type": "code",
   "execution_count": null,
   "id": "7994f847-494e-4571-8c27-35aeddd09790",
   "metadata": {},
   "outputs": [],
   "source": []
  }
 ],
 "metadata": {
  "kernelspec": {
   "display_name": "Python 3 (ipykernel)",
   "language": "python",
   "name": "python3"
  },
  "language_info": {
   "codemirror_mode": {
    "name": "ipython",
    "version": 3
   },
   "file_extension": ".py",
   "mimetype": "text/x-python",
   "name": "python",
   "nbconvert_exporter": "python",
   "pygments_lexer": "ipython3",
   "version": "3.13.6"
  }
 },
 "nbformat": 4,
 "nbformat_minor": 5
}
