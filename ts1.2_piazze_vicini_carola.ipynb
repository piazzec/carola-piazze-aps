
"""
Created on Wed Aug 20 18:52:26 2025

@author: Carola
"""

##ts1, usar funciones de numpy. 

import numpy as np
import matplotlib.pyplot as plt

#defino parámetros
fs=50000
t=np.linspace(0,0.005, int(fs*0.005))
#vector de tiempo de 0 a 2milisegundos, con fs puntos igualmente espaciados
frec=2000 #frecuencia en Hz de la señal principal

#ahora defino la señal sinusoidal de 2kHz
x1=np.sin(2* np.pi * frec * t)

#la misma señal con el desface de pi/2 y amplificada (elijo multiplicar la amplitud por 2)
x2= 2 * np.sin(2* np.pi * frec * t + np.pi/2)

#misma señal pero modulada en amplitud por otra selan de la mitad de frecuencia. esto quiere decir que la onda orignal va a cambiar su amplitud a medida que sigue otra onda
frecmoduladora=1000 #la señal que va a contener a la original tiene la mitad de frecuencia
m = 0.8  # Índice de modulación (0 < m <= 1)
x3 = (1 + m * np.sin(2 * np.pi * frecmoduladora * t)) * np.sin(2 * np.pi * frec * t)
#el +1 sirve para que la amplitud de la oduladora siempre sea >= 0 y no se invierta 180° la fase

#clipping al 75% de a potencia 
# calculo la potencia promedio de la señal original
P = np.mean(x1**2)
# calculo el 75% de la potencia
P_clip = 0.75 * P
# como la potencia escala con el cuadrado de la amplitud, obtengo el valor de amplitud máximo
A_clip = np.sqrt(P_clip)
# aplico clipping: limito la señal a ±A_clip
x1_clipped = np.clip(x1, -A_clip, A_clip)
#grafico todo

plt.figure(figsize=(12,5))

plt.subplot(2,1,1)
plt.plot(t, x1)
plt.title("Señal sinusoidal de 2 kHz")
plt.xlabel("Tiempo [s]")
plt.ylabel("Amplitud")
plt.grid (True)
plt.margins(y=0.1)

plt.subplot(2,1,2)
plt.plot(t, x2)
plt.title("Señal amplificada (A=2) y desfazada en pi/2")
plt.xlabel("Tiempo [s]")
plt.ylabel("Amplitud")
plt.grid (True)
plt.margins(y=0.1)

plt.tight_layout()
plt.show()


plt.figure(figsize=(12,5))
plt.subplot(2,1,1)
plt.plot(t, x3)
plt.title("Señal de 2 kHz modulada en amplitud por 1 kHz")
plt.xlabel("Tiempo [s]")
plt.ylabel("Amplitud")
plt.grid (True)
plt.margins(y=0.1)

envolvente_superior = 1 + m * np.sin(2 * np.pi * frecmoduladora * t)
envolvente_inferior = -(1 + m * np.sin(2 * np.pi * frecmoduladora * t))
plt.plot(t, envolvente_superior, 'r--')
plt.plot(t, envolvente_inferior, 'r--')

plt.subplot(2,1,2)
plt.plot(t, x1_clipped)
plt.title("Señal de 2 kHz recortada al 75% de la potencia")
plt.xlabel("Tiempo [s]")
plt.ylabel("Amplitud")
plt.grid (True)
plt.margins(y=0.1)

plt.tight_layout()
plt.show()

#clipping, primero encuentro el valor del 75% de la potencia y después limito la amplitud a ese valor


